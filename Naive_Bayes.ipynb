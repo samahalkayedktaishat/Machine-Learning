{
  "nbformat": 4,
  "nbformat_minor": 0,
  "metadata": {
    "colab": {
      "name": "Naive Bayes",
      "provenance": [],
      "collapsed_sections": [],
      "authorship_tag": "ABX9TyO+SPNOREZAQQlCvO8J2uQF",
      "include_colab_link": true
    },
    "kernelspec": {
      "name": "python3",
      "display_name": "Python 3"
    },
    "language_info": {
      "name": "python"
    }
  },
  "cells": [
    {
      "cell_type": "markdown",
      "metadata": {
        "id": "view-in-github",
        "colab_type": "text"
      },
      "source": [
        "<a href=\"https://colab.research.google.com/github/samahalkayedktaishat/Machine-Learning/blob/main/Naive_Bayes.ipynb\" target=\"_parent\"><img src=\"https://colab.research.google.com/assets/colab-badge.svg\" alt=\"Open In Colab\"/></a>"
      ]
    },
    {
      "cell_type": "markdown",
      "metadata": {
        "id": "ZQmj7WjA0n0h"
      },
      "source": [
        "#Email Similarity\n",
        "In this project, you will use scikit-learn’s Naive Bayes implementation on several different datasets. By reporting the accuracy of the classifier, we can find which datasets are harder to distinguish. \n"
      ]
    },
    {
      "cell_type": "code",
      "metadata": {
        "id": "JlrzzIRT0GbA"
      },
      "source": [
        "\n",
        "from sklearn.datasets import fetch_20newsgroups\n",
        "from sklearn.naive_bayes import MultinomialNB\n",
        "from sklearn.feature_extraction.text import CountVectorizer\n",
        "\n"
      ],
      "execution_count": null,
      "outputs": []
    },
    {
      "cell_type": "code",
      "metadata": {
        "id": "2pldgZTR0cOy"
      },
      "source": [
        "#Making the Training and Test Sets\n",
        "train_emails = fetch_20newsgroups( categories = ['soc.religion.christian','talk.religion.misc'] ,subset = \"train\" , shuffle = True , random_state = 108) \n",
        "\n",
        "test_emails = fetch_20newsgroups(categories = ['soc.religion.christian','talk.religion.misc'],subset = \"test\" , shuffle = True , random_state = 108) \n"
      ],
      "execution_count": 2,
      "outputs": []
    },
    {
      "cell_type": "code",
      "metadata": {
        "id": "wEdG9Wuk0dGr"
      },
      "source": [
        "\n",
        "#Counting Words\n",
        "counter = CountVectorizer()\n",
        "counter.fit(test_emails.data + train_emails.data) \n",
        "train_counts = counter.transform(train_emails.data) \n",
        "test_counts = counter.transform(test_emails.data)\n"
      ],
      "execution_count": 3,
      "outputs": []
    },
    {
      "cell_type": "code",
      "metadata": {
        "colab": {
          "base_uri": "https://localhost:8080/"
        },
        "id": "UpdXxrEX0fLu",
        "outputId": "5dedff8a-8017-4ee3-8ffb-047d53e5520f"
      },
      "source": [
        "#Making a Naive Bayes Classifier\n",
        "classifier = MultinomialNB()\n",
        "classifier.fit(train_counts ,train_emails.target)\n",
        "print(classifier.score(test_counts , test_emails.target))"
      ],
      "execution_count": 4,
      "outputs": [
        {
          "output_type": "stream",
          "name": "stdout",
          "text": [
            "0.9183359013867488\n"
          ]
        }
      ]
    }
  ]
}