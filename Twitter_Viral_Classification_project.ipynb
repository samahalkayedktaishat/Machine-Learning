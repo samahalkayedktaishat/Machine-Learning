{
  "nbformat": 4,
  "nbformat_minor": 0,
  "metadata": {
    "colab": {
      "name": "Twitter Viral Classification project",
      "provenance": [],
      "collapsed_sections": [],
      "mount_file_id": "1A7lMrDhqqT6zJUKgUMH5F1eGpt-fSUpv",
      "authorship_tag": "ABX9TyOkQ+izBPjfgZ1uXUwqd3CJ",
      "include_colab_link": true
    },
    "kernelspec": {
      "name": "python3",
      "display_name": "Python 3"
    },
    "language_info": {
      "name": "python"
    }
  },
  "cells": [
    {
      "cell_type": "markdown",
      "metadata": {
        "id": "view-in-github",
        "colab_type": "text"
      },
      "source": [
        "<a href=\"https://colab.research.google.com/github/samahalkayedktaishat/Machine-Learning/blob/main/Twitter_Viral_Classification_project.ipynb\" target=\"_parent\"><img src=\"https://colab.research.google.com/assets/colab-badge.svg\" alt=\"Open In Colab\"/></a>"
      ]
    },
    {
      "cell_type": "code",
      "metadata": {
        "id": "o9LfYHBbTzfq"
      },
      "source": [
        "import pandas as pd \n",
        "import numpy as np \n",
        "from sklearn.preprocessing import scale\n",
        "from sklearn.model_selection import train_test_split \n",
        "from sklearn.neighbors import KNeighborsClassifier\n",
        "import matplotlib.pyplot as plt "
      ],
      "execution_count": 44,
      "outputs": []
    },
    {
      "cell_type": "code",
      "metadata": {
        "colab": {
          "base_uri": "https://localhost:8080/"
        },
        "id": "fFYhcIkURpue",
        "outputId": "5ba28ba6-cb59-40be-89b4-57aad889d9f8"
      },
      "source": [
        "all_tweets = pd.read_json(\"/content/drive/MyDrive/twitter/twitter_classification_project/random_tweets.json\" , lines = True)\n",
        "print(all_tweets.columns) "
      ],
      "execution_count": 11,
      "outputs": [
        {
          "output_type": "stream",
          "name": "stdout",
          "text": [
            "Index(['created_at', 'id', 'id_str', 'text', 'truncated', 'entities',\n",
            "       'metadata', 'source', 'in_reply_to_status_id',\n",
            "       'in_reply_to_status_id_str', 'in_reply_to_user_id',\n",
            "       'in_reply_to_user_id_str', 'in_reply_to_screen_name', 'user', 'geo',\n",
            "       'coordinates', 'place', 'contributors', 'retweeted_status',\n",
            "       'is_quote_status', 'retweet_count', 'favorite_count', 'favorited',\n",
            "       'retweeted', 'lang', 'possibly_sensitive', 'quoted_status_id',\n",
            "       'quoted_status_id_str', 'extended_entities', 'quoted_status',\n",
            "       'withheld_in_countries'],\n",
            "      dtype='object')\n"
          ]
        }
      ]
    },
    {
      "cell_type": "code",
      "metadata": {
        "colab": {
          "base_uri": "https://localhost:8080/"
        },
        "id": "2pCcA5z1VbKv",
        "outputId": "34b1e11b-e51a-4e96-bc8f-173ffae66cb2"
      },
      "source": [
        "print(all_tweets['retweet_count'])"
      ],
      "execution_count": 12,
      "outputs": [
        {
          "output_type": "stream",
          "name": "stdout",
          "text": [
            "0            3\n",
            "1            0\n",
            "2            5\n",
            "3        11106\n",
            "4            6\n",
            "         ...  \n",
            "11094     2582\n",
            "11095     6753\n",
            "11096        0\n",
            "11097        3\n",
            "11098        0\n",
            "Name: retweet_count, Length: 11099, dtype: int64\n"
          ]
        }
      ]
    },
    {
      "cell_type": "code",
      "metadata": {
        "colab": {
          "base_uri": "https://localhost:8080/"
        },
        "id": "NH_7nOQxWGmG",
        "outputId": "b6ac7b35-9b58-4328-9d30-c1e15bba7d45"
      },
      "source": [
        "median = np.median(all_tweets['retweet_count'])\n",
        "print(median)"
      ],
      "execution_count": 13,
      "outputs": [
        {
          "output_type": "stream",
          "name": "stdout",
          "text": [
            "13.0\n"
          ]
        }
      ]
    },
    {
      "cell_type": "code",
      "metadata": {
        "colab": {
          "base_uri": "https://localhost:8080/"
        },
        "id": "7QUtpZBXWh1S",
        "outputId": "d131c02e-5b92-4fb4-e439-55002b73e718"
      },
      "source": [
        "all_tweets[\"viral\"] = np.where(all_tweets['retweet_count'] > median , 1 , 0)\n",
        "print(all_tweets[\"viral\"])"
      ],
      "execution_count": 15,
      "outputs": [
        {
          "output_type": "stream",
          "name": "stdout",
          "text": [
            "0        0\n",
            "1        0\n",
            "2        0\n",
            "3        1\n",
            "4        0\n",
            "        ..\n",
            "11094    1\n",
            "11095    1\n",
            "11096    0\n",
            "11097    0\n",
            "11098    0\n",
            "Name: viral, Length: 11099, dtype: int64\n"
          ]
        }
      ]
    },
    {
      "cell_type": "code",
      "metadata": {
        "colab": {
          "base_uri": "https://localhost:8080/"
        },
        "id": "K05AZ1aOXlHQ",
        "outputId": "758964ea-7c95-4ad8-cd59-95200cb25671"
      },
      "source": [
        "all_tweets[\"Length\"] = all_tweets.apply(lambda tweet : len(tweet['text']) , axis = 1)\n",
        "\n",
        "print(all_tweets[\"Length\"])\n",
        "\n",
        "all_tweets[\"followers_count\"] = all_tweets.apply(lambda tweet : tweet['user'][\"followers_count\"] , axis = 1)\n",
        "\n",
        "print(all_tweets[\"followers_count\"])\n",
        "\n",
        "all_tweets[\"friends_count\"] = all_tweets.apply(lambda tweet : tweet['user'][\"friends_count\"] , axis = 1)\n",
        "\n",
        "print(all_tweets[\"friends_count\"])\n",
        "\n",
        "all_tweets[\"hashtag_count\"] = all_tweets.apply(lambda tweet : tweet[\"text\"].count(\"#\") , axis= 1)\n",
        "print(all_tweets[\"hashtag_count\"] )"
      ],
      "execution_count": 25,
      "outputs": [
        {
          "output_type": "stream",
          "name": "stdout",
          "text": [
            "0        140\n",
            "1         77\n",
            "2        140\n",
            "3        140\n",
            "4        140\n",
            "        ... \n",
            "11094    140\n",
            "11095     75\n",
            "11096    140\n",
            "11097    140\n",
            "11098     75\n",
            "Name: Length, Length: 11099, dtype: int64\n",
            "0         215\n",
            "1         199\n",
            "2         196\n",
            "3        3313\n",
            "4         125\n",
            "         ... \n",
            "11094     509\n",
            "11095     462\n",
            "11096     135\n",
            "11097      59\n",
            "11098    1563\n",
            "Name: followers_count, Length: 11099, dtype: int64\n",
            "0         335\n",
            "1         203\n",
            "2         558\n",
            "3        2272\n",
            "4         273\n",
            "         ... \n",
            "11094    1323\n",
            "11095    1033\n",
            "11096      90\n",
            "11097     320\n",
            "11098    1697\n",
            "Name: friends_count, Length: 11099, dtype: int64\n",
            "0        0\n",
            "1        0\n",
            "2        0\n",
            "3        0\n",
            "4        0\n",
            "        ..\n",
            "11094    0\n",
            "11095    0\n",
            "11096    0\n",
            "11097    0\n",
            "11098    0\n",
            "Name: hashtag_count, Length: 11099, dtype: int64\n"
          ]
        }
      ]
    },
    {
      "cell_type": "code",
      "metadata": {
        "id": "bSEG2tvzb-6t"
      },
      "source": [
        "labels = all_tweets[\"viral\"] \n",
        "data = all_tweets[[\"Length\" , \"followers_count\" , \"friends_count\" , \"hashtag_count\"]]"
      ],
      "execution_count": 27,
      "outputs": []
    },
    {
      "cell_type": "code",
      "metadata": {
        "id": "QmTkE8P9dKOg"
      },
      "source": [
        "scaled_data = scale(data , axis = 0)"
      ],
      "execution_count": 30,
      "outputs": []
    },
    {
      "cell_type": "code",
      "metadata": {
        "id": "1i_3a030dee4"
      },
      "source": [
        "x_train , x_test , y_train ,y_test = train_test_split(data , labels ,test_size = 0.2 , random_state = 1 )\n",
        "score = []"
      ],
      "execution_count": 39,
      "outputs": []
    },
    {
      "cell_type": "code",
      "metadata": {
        "colab": {
          "base_uri": "https://localhost:8080/"
        },
        "id": "rCTnU6xYfWOC",
        "outputId": "dec87a7b-6cda-4aaa-8a27-f4791dfb89d5"
      },
      "source": [
        "classifier = KNeighborsClassifier(n_neighbors= 5)\n",
        "classifier.fit(x_train , y_train)\n",
        "print(classifier.score(x_test , y_test)) "
      ],
      "execution_count": 38,
      "outputs": [
        {
          "output_type": "stream",
          "name": "stdout",
          "text": [
            "0.5585585585585585\n"
          ]
        }
      ]
    },
    {
      "cell_type": "code",
      "metadata": {
        "colab": {
          "base_uri": "https://localhost:8080/"
        },
        "id": "XkDRQYnFgPJ3",
        "outputId": "caa4ef15-552a-42cc-af31-6924da6a879c"
      },
      "source": [
        "for k in range(1,200):\n",
        "  classifier = KNeighborsClassifier(n_neighbors= k)\n",
        "  classifier.fit(x_train , y_train)\n",
        "  score.append(classifier.score(x_test , y_test)) \n",
        "\n",
        "print(max(score)) \n"
      ],
      "execution_count": 41,
      "outputs": [
        {
          "output_type": "stream",
          "name": "stdout",
          "text": [
            "0.5833333333333334\n"
          ]
        }
      ]
    },
    {
      "cell_type": "code",
      "metadata": {
        "colab": {
          "base_uri": "https://localhost:8080/",
          "height": 265
        },
        "id": "I3iZBcR1hpXJ",
        "outputId": "b79afba0-f834-4e2a-c1da-59e33b66bf0c"
      },
      "source": [
        "plt.plot( score)\n",
        "plt.show()"
      ],
      "execution_count": 46,
      "outputs": [
        {
          "output_type": "display_data",
          "data": {
            "image/png": "[encoded data removed]",
            "text/plain": [
              "<Figure size 432x288 with 1 Axes>"
            ]
          },
          "metadata": {
            "needs_background": "light"
          }
        }
      ]
    }
  ]
}